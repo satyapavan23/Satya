{
 "cells": [
  {
   "cell_type": "code",
   "execution_count": null,
   "id": "67f6ab29",
   "metadata": {},
   "outputs": [],
   "source": [
    "# -*- coding: utf-8 -*-\n",
    "\n",
    "import json\n",
    "import csv\n",
    "f = open('spec.json')\n",
    "data = json.load(f)\n",
    "f.close()\n",
    "list1 = data['ColumnNames']\n",
    "list2 = data['Offsets']\n",
    "columns = tuple(map(tuple, zip(list1, list(map(int, list2)))))\n",
    "with open('myfile.txt', 'w', encoding='cp1252') as f:\n",
    "    f.write(''.join([(field_name).ljust(width) for field_name, width in columns]))\n",
    "    \n",
    "def cuts(x,l):\n",
    "    location = 0\n",
    "    for length in l:\n",
    "        yield x[location:location + length]\n",
    "        location += length\n",
    "\n",
    "with open(\"myfile.txt\") as f:\n",
    "        for line in f:\n",
    "            with open('mycsv.csv', 'w', encoding='utf-8') as csv_file:\n",
    "                writer = csv.writer(csv_file, delimiter=',')\n",
    "                writer.writerow(list(cuts(line, list(map(int, list2)))))"
   ]
  }
 ],
 "metadata": {
  "kernelspec": {
   "display_name": "Python 3 (ipykernel)",
   "language": "python",
   "name": "python3"
  },
  "language_info": {
   "codemirror_mode": {
    "name": "ipython",
    "version": 3
   },
   "file_extension": ".py",
   "mimetype": "text/x-python",
   "name": "python",
   "nbconvert_exporter": "python",
   "pygments_lexer": "ipython3",
   "version": "3.11.3"
  }
 },
 "nbformat": 4,
 "nbformat_minor": 5
}
